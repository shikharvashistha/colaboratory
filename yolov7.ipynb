{
  "nbformat": 4,
  "nbformat_minor": 0,
  "metadata": {
    "colab": {
      "private_outputs": true,
      "provenance": [],
      "mount_file_id": "1t9lnuk1mFXz3SoS5DR-CsTCArix843VY",
      "authorship_tag": "ABX9TyMuhHkVewuTH5yGxMUbsImu",
      "include_colab_link": true
    },
    "kernelspec": {
      "name": "python3",
      "display_name": "Python 3"
    },
    "language_info": {
      "name": "python"
    },
    "accelerator": "GPU",
    "gpuClass": "standard"
  },
  "cells": [
    {
      "cell_type": "markdown",
      "metadata": {
        "id": "view-in-github",
        "colab_type": "text"
      },
      "source": [
        "<a href=\"https://colab.research.google.com/github/shikharvashistha/colaboratory/blob/main/yolov7.ipynb\" target=\"_parent\"><img src=\"https://colab.research.google.com/assets/colab-badge.svg\" alt=\"Open In Colab\"/></a>"
      ]
    },
    {
      "cell_type": "code",
      "execution_count": null,
      "metadata": {
        "id": "6x_qen8KPtbD"
      },
      "outputs": [],
      "source": [
        "!git clone https://github.com/AlexeyAB/darknet\n",
        "!apt-get install build-essential\n",
        "!apt-get install libopencv-dev\n",
        "!apt-get install libglfw3-dev\n",
        "!apt-get install libglew-dev\n",
        "!apt-get install libjpeg-dev\n",
        "!apt-get install libtiff-dev\n",
        "!apt-get install libpng-dev\n",
        "!apt-get install libavcodec-dev\n",
        "!apt-get install libavformat-dev\n",
        "!apt-get install libswscale-dev\n",
        "!apt-get install libxvidcore-dev\n",
        "!apt-get install libx264-dev\n",
        "!apt-get install libxine2-dev\n",
        "!pip install -U tensorflow numpy keras opencv-python matplotlib\n",
        "%cd darknet\n",
        "!sed -i 's/OPENCV=0/OPENCV=1/' Makefile\n",
        "!sed -i 's/GPU=0/GPU=1/' Makefile\n",
        "!sed -i 's/CUDNN=0/CUDNN=1/' Makefile\n",
        "# change GPU=1 CUDNN=1 OPENCV=1 in Makefile"
      ]
    },
    {
      "cell_type": "code",
      "source": [
        "!make"
      ],
      "metadata": {
        "id": "aY9PKWL6QrS_"
      },
      "execution_count": null,
      "outputs": []
    },
    {
      "cell_type": "code",
      "source": [
        "!./darknet detector train my_yolov7.cfg yolov7.weights -dont_show train.txt"
      ],
      "metadata": {
        "id": "oIxqftRlVjiQ"
      },
      "execution_count": null,
      "outputs": []
    }
  ]
}