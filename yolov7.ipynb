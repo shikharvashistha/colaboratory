{
  "nbformat": 4,
  "nbformat_minor": 0,
  "metadata": {
    "colab": {
      "private_outputs": true,
      "provenance": [],
      "mount_file_id": "1t9lnuk1mFXz3SoS5DR-CsTCArix843VY",
      "authorship_tag": "ABX9TyOFZ9aLVypvV5Lk4gz4AHW2",
      "include_colab_link": true
    },
    "kernelspec": {
      "name": "python3",
      "display_name": "Python 3"
    },
    "language_info": {
      "name": "python"
    },
    "accelerator": "GPU",
    "gpuClass": "standard"
  },
  "cells": [
    {
      "cell_type": "markdown",
      "metadata": {
        "id": "view-in-github",
        "colab_type": "text"
      },
      "source": [
        "<a href=\"https://colab.research.google.com/github/shikharvashistha/colaboratory/blob/main/yolov7.ipynb\" target=\"_parent\"><img src=\"https://colab.research.google.com/assets/colab-badge.svg\" alt=\"Open In Colab\"/></a>"
      ]
    },
    {
      "cell_type": "code",
      "execution_count": null,
      "metadata": {
        "id": "6x_qen8KPtbD"
      },
      "outputs": [],
      "source": [
        "!git clone https://github.com/AlexeyAB/darknet\n",
        "!apt-get install build-essential\n",
        "!apt-get install libopencv-dev\n",
        "!apt-get install libglfw3-dev\n",
        "!apt-get install libglew-dev\n",
        "!apt-get install libjpeg-dev\n",
        "!apt-get install libtiff-dev\n",
        "!apt-get install libpng-dev\n",
        "!apt-get install libavcodec-dev\n",
        "!apt-get install libavformat-dev\n",
        "!apt-get install libswscale-dev\n",
        "!apt-get install libxvidcore-dev\n",
        "!apt-get install libx264-dev\n",
        "!apt-get install libxine2-dev\n",
        "!pip install -U tensorflow numpy keras opencv-python matplotlib\n",
        "%cd darknet\n",
        "!sed -i 's/OPENCV=0/OPENCV=1/' Makefile\n",
        "!sed -i 's/GPU=0/GPU=10/' Makefile\n",
        "!sed -i 's/CUDNN=0/CUDNN=10/' Makefile\n",
        "# change GPU=1 CUDNN=1 OPENCV=1 in Makefile"
      ]
    },
    {
      "cell_type": "code",
      "source": [
        "!make"
      ],
      "metadata": {
        "id": "aY9PKWL6QrS_"
      },
      "execution_count": null,
      "outputs": []
    },
    {
      "cell_type": "code",
      "source": [
        "!cp cfg/yolov7.cfg cfg/yolov7_training.cfg"
      ],
      "metadata": {
        "id": "e6WY0d3HdCbj"
      },
      "execution_count": null,
      "outputs": []
    },
    {
      "cell_type": "code",
      "source": [
        "!sed -i 's/classes=80/classes=3/' cfg/yolov7_training.cfg\n",
        "!sed -i 's/names=data/names=human,car,potholes/' cfg/yolov7_training.cfg\n",
        "!echo \"human\" > data/obj.names\n",
        "!echo \"car\" >> data/obj.names\n",
        "!echo \"potholes\" >> data/obj.names\n",
        "!echo \"classes=3\" > data/obj.data\n",
        "!echo \"names=path/to/obj.names\" >> data/obj.data\n",
        "!echo \"train=path/to/train.txt\" >> data/obj.data\n",
        "!echo \"valid=path/to/valid.txt\" >> data/obj.data\n",
        "!echo \"test=path/to/test.txt\" >> data/obj.data\n",
        "!sed -i 's/filters=255/filters=256/' cfg/yolov7_training.cfg\n",
        "!sed -i 's/max_batches=6000/max_batches=64000/' cfg/yolov7_training.cfg\n",
        "!sed -i 's/subdivisions=16/subdivisions=8/' cfg/yolov7_training.cfg\n",
        "!sed -i 's/classes=80/classes=3/' cfg/yolov7_training.cfg\n",
        "!cp cfg/yolov7_training.cfg /content/drive/MyDrive/Datasets\n",
        "!cp data/obj.names data/obj.data /content/drive/MyDrive/Datasets"
      ],
      "metadata": {
        "id": "tCzzwaNxedO1"
      },
      "execution_count": null,
      "outputs": []
    },
    {
      "cell_type": "code",
      "source": [
        "!mkdir data/obj\n",
        "!unzip /content/drive/My\\ Drive/Datasets/images.zip -d data/obj\n"
      ],
      "metadata": {
        "id": "jApaIw2LlQ5t"
      },
      "execution_count": null,
      "outputs": []
    },
    {
      "cell_type": "code",
      "source": [
        "import glob\n",
        "images_list=glob.glob(\"data/obj/*.jpg\")\n",
        "with open(\"data/train.txt\", \"w\") as f:\n",
        "        f.write(\"\\n\".join(images_list))"
      ],
      "metadata": {
        "id": "04hyHr82le8p"
      },
      "execution_count": null,
      "outputs": []
    },
    {
      "cell_type": "code",
      "source": [
        "!wget https://github.com/WongKinYiu/yolov7/releases/download/v0.1/yolov7.weights"
      ],
      "metadata": {
        "id": "PwrmXFkLmyos"
      },
      "execution_count": null,
      "outputs": []
    },
    {
      "cell_type": "code",
      "source": [
        "!./darknet detector train cfg/yolov7_training.cfg yolov7.weights -dont_show train.txt"
      ],
      "metadata": {
        "id": "oIxqftRlVjiQ"
      },
      "execution_count": null,
      "outputs": []
    }
  ]
}