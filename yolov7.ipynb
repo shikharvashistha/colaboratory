{
  "nbformat": 4,
  "nbformat_minor": 0,
  "metadata": {
    "colab": {
      "private_outputs": true,
      "provenance": [],
      "authorship_tag": "ABX9TyOaqvfmH8C8+1RHJGEasPBW",
      "include_colab_link": true
    },
    "kernelspec": {
      "name": "python3",
      "display_name": "Python 3"
    },
    "language_info": {
      "name": "python"
    },
    "accelerator": "GPU",
    "gpuClass": "standard"
  },
  "cells": [
    {
      "cell_type": "markdown",
      "metadata": {
        "id": "view-in-github",
        "colab_type": "text"
      },
      "source": [
        "<a href=\"https://colab.research.google.com/github/shikharvashistha/colaboratory/blob/main/yolov7.ipynb\" target=\"_parent\"><img src=\"https://colab.research.google.com/assets/colab-badge.svg\" alt=\"Open In Colab\"/></a>"
      ]
    },
    {
      "cell_type": "code",
      "execution_count": null,
      "metadata": {
        "id": "6x_qen8KPtbD"
      },
      "outputs": [],
      "source": [
        "!git clone https://github.com/pjreddie/darknet\n",
        "!apt-get install build-essential\n",
        "!apt-get install libopencv-dev\n",
        "!apt-get install libglfw3-dev\n",
        "!apt-get install libglew-dev\n",
        "!apt-get install libjpeg-dev\n",
        "!apt-get install libtiff-dev\n",
        "!apt-get install libpng-dev\n",
        "!apt-get install libavcodec-dev\n",
        "!apt-get install libavformat-dev\n",
        "!apt-get install libswscale-dev\n",
        "!apt-get install libxvidcore-dev\n",
        "!apt-get install libx264-dev\n",
        "!apt-get install libxine2-dev\n",
        "!pip install tensorflow\n",
        "!pip install keras\n",
        "!pip install numpy\n",
        "!pip install opencv-python\n",
        "%cd darknet\n",
        "# change GPU=1 CUDNN=1 OPENCV =1 in Makefile\n"
      ]
    },
    {
      "cell_type": "code",
      "source": [
        "!make"
      ],
      "metadata": {
        "id": "aY9PKWL6QrS_"
      },
      "execution_count": null,
      "outputs": []
    },
    {
      "cell_type": "code",
      "source": [
        "from google.colab import files\n",
        "uploaded = files.upload()"
      ],
      "metadata": {
        "id": "j54O4LhBSpfq"
      },
      "execution_count": null,
      "outputs": []
    }
  ]
}