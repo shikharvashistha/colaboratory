{
  "nbformat": 4,
  "nbformat_minor": 0,
  "metadata": {
    "colab": {
      "private_outputs": true,
      "provenance": [],
      "mount_file_id": "1t9lnuk1mFXz3SoS5DR-CsTCArix843VY",
      "authorship_tag": "ABX9TyN/ep/zAefTY7RGBbSevZeF",
      "include_colab_link": true
    },
    "kernelspec": {
      "name": "python3",
      "display_name": "Python 3"
    },
    "language_info": {
      "name": "python"
    },
    "accelerator": "GPU",
    "gpuClass": "standard"
  },
  "cells": [
    {
      "cell_type": "markdown",
      "metadata": {
        "id": "view-in-github",
        "colab_type": "text"
      },
      "source": [
        "<a href=\"https://colab.research.google.com/github/shikharvashistha/colaboratory/blob/main/yolov7.ipynb\" target=\"_parent\"><img src=\"https://colab.research.google.com/assets/colab-badge.svg\" alt=\"Open In Colab\"/></a>"
      ]
    },
    {
      "cell_type": "code",
      "execution_count": null,
      "metadata": {
        "id": "6x_qen8KPtbD"
      },
      "outputs": [],
      "source": [
        "!apt-get install build-essential\n",
        "!apt-get install libopencv-dev\n",
        "!apt-get install libglfw3-dev\n",
        "!apt-get install libglew-dev\n",
        "!apt-get install libjpeg-dev\n",
        "!apt-get install libtiff-dev\n",
        "!apt-get install libpng-dev\n",
        "!apt-get install libavcodec-dev\n",
        "!apt-get install libavformat-dev\n",
        "!apt-get install libswscale-dev\n",
        "!apt-get install libxvidcore-dev\n",
        "!apt-get install libx264-dev\n",
        "!apt-get install libxine2-dev\n",
        "!pip install -U tensorflow numpy keras opencv-python matplotlib"
      ]
    },
    {
      "cell_type": "code",
      "source": [
        "!git clone https://github.com/AlexeyAB/darknet\n",
        "%cd darknet\n",
        "!sed -i 's/OPENCV=0/OPENCV=1/' Makefile\n",
        "!sed -i 's/GPU=0/GPU=1/' Makefile\n",
        "!sed -i 's/CUDNN=0/CUDNN=1/' Makefile\n",
        "!sed -i 's/CUDNN=0/CUDNN_HALF=1/' Makefile"
      ],
      "metadata": {
        "id": "0FwkNu_hpdsr"
      },
      "execution_count": null,
      "outputs": []
    },
    {
      "cell_type": "code",
      "source": [
        "!make"
      ],
      "metadata": {
        "id": "aY9PKWL6QrS_"
      },
      "execution_count": null,
      "outputs": []
    },
    {
      "cell_type": "code",
      "source": [
        "!cp cfg/yolov7.cfg cfg/yolov7_training.cfg"
      ],
      "metadata": {
        "id": "e6WY0d3HdCbj"
      },
      "execution_count": null,
      "outputs": []
    },
    {
      "cell_type": "code",
      "source": [
        "# from google.colab import drive\n",
        "# drive.mount('/content/drive')"
      ],
      "metadata": {
        "id": "67Bc4KWvoopD"
      },
      "execution_count": null,
      "outputs": []
    },
    {
      "cell_type": "code",
      "source": [
        "!sed -i 's/classes=80/classes=3/' cfg/yolov7_training.cfg\n",
        "!sed -i 's/names=data/names=human,car,potholes/' cfg/yolov7_training.cfg\n",
        "!echo \"human\" > data/obj.names\n",
        "!echo \"car\" >> data/obj.names\n",
        "!echo \"potholes\" >> data/obj.names\n",
        "!echo \"classes=3\" > data/obj.data\n",
        "!echo \"names=/content/darknet/data/obj.names\" >> data/obj.data\n",
        "!echo \"train=/content/darknet/data/obj/train.txt\" >> data/obj.data\n",
        "!echo \"backup = /content/drive/My\\ Drive/Datasets/\" > data/obj.data\n",
        "# !echo \"valid=path/to/valid.txt\" >> data/obj.data\n",
        "!echo \"test=/content/darknet/data/obj/test.txt\" >> data/obj.data\n",
        "!sed -i 's/filters=255/filters=24/' cfg/yolov7_training.cfg\n",
        "# !sed -i 's/max_batches=6000/max_batches=64000/' cfg/yolov7_training.cfg\n",
        "!sed -i 's/subdivisions=1/subdivisions=16/' cfg/yolov7_training.cfg\n",
        "!sed -i 's/classes=80/classes=3/' cfg/yolov7_training.cfg\n",
        "!cp cfg/yolov7_training.cfg /content/drive/MyDrive/Datasets\n",
        "!cp data/obj.names data/obj.data /content/drive/MyDrive/Datasets"
      ],
      "metadata": {
        "id": "tCzzwaNxedO1"
      },
      "execution_count": null,
      "outputs": []
    },
    {
      "cell_type": "code",
      "source": [
        "!mkdir data/obj\n",
        "!unzip /content/drive/My\\ Drive/Datasets/images.zip -d data/obj\n"
      ],
      "metadata": {
        "id": "jApaIw2LlQ5t"
      },
      "execution_count": null,
      "outputs": []
    },
    {
      "cell_type": "code",
      "source": [
        "import glob\n",
        "images_list = glob.glob(\"data/obj/images/*.jpg\")\n",
        "with open(\"data/obj/train.txt\", \"w\") as f:\n",
        "    f.write(\"\\n\".join(images_list))\n",
        "\n",
        "images_list = glob.glob(\"data/obj/test/*.jpg\")\n",
        "with open(\"data/obj/test.txt\", \"w\") as f:\n",
        "    f.write(\"\\n\".join(images_list))"
      ],
      "metadata": {
        "id": "04hyHr82le8p"
      },
      "execution_count": null,
      "outputs": []
    },
    {
      "cell_type": "code",
      "source": [
        "!wget https://github.com/WongKinYiu/yolov7/releases/download/v0.1/yolov7.weights\n",
        "!find . -name yolov7.weights\n",
        "!pwd"
      ],
      "metadata": {
        "id": "PwrmXFkLmyos"
      },
      "execution_count": null,
      "outputs": []
    },
    {
      "cell_type": "code",
      "source": [
        "!./darknet"
      ],
      "metadata": {
        "id": "iulYMSgVrekt"
      },
      "execution_count": null,
      "outputs": []
    },
    {
      "cell_type": "code",
      "source": [
        "!./darknet detector train -gpus 0 /content/darknet/data/obj.data /content/darknet/cfg/yolov7_training.cfg /content/darknet/yolov7.weights -dont_show data/obj/train.txt"
      ],
      "metadata": {
        "id": "oIxqftRlVjiQ"
      },
      "execution_count": null,
      "outputs": []
    },
    {
      "cell_type": "code",
      "source": [
        "!./darknet detector train /content/drive/MyDrive/Datasets/obj.data /content/drive/MyDrive/Datasets/yolov7_training.cfg /content/drive/MyDrive/Datasets/yolov7_training_last.weights -dont_show"
      ],
      "metadata": {
        "id": "fpDAphdH16SS"
      },
      "execution_count": null,
      "outputs": []
    },
    {
      "cell_type": "code",
      "source": [
        "!free -g\n",
        "!lscpu |grep 'Model name'\n",
        "!nvidia-smi -L"
      ],
      "metadata": {
        "id": "wuOELiMIosQj"
      },
      "execution_count": null,
      "outputs": []
    },
    {
      "cell_type": "code",
      "source": [
        "mem = []\n",
        "while True:\n",
        "    mem.append(' ' * 10**6)"
      ],
      "metadata": {
        "id": "xml4RMGuoPlK"
      },
      "execution_count": null,
      "outputs": []
    },
    {
      "cell_type": "code",
      "source": [
        "!./darknet detector map /content/drive/MyDrive/Datasets/obj.data /content/drive/MyDrive/Datasets/yolov7_training.cfg /content/drive/MyDrive/Datasets/yolov7_training_final.weights -points 0"
      ],
      "metadata": {
        "id": "5ygx91KdAXqu"
      },
      "execution_count": null,
      "outputs": []
    },
    {
      "cell_type": "code",
      "source": [
        "!./darknet detector map /content/drive/MyDrive/Datasets/obj.data /content/drive/MyDrive/Datasets/yolov7_training.cfg /content/drive/MyDrive/Datasets/yolov7_training_last.weights -points 0"
      ],
      "metadata": {
        "id": "Y66DO04CFWg_"
      },
      "execution_count": null,
      "outputs": []
    },
    {
      "cell_type": "code",
      "source": [
        "!./darknet detector map /content/drive/MyDrive/Datasets/obj.data /content/drive/MyDrive/Datasets/yolov7_training.cfg /content/drive/MyDrive/Datasets/yolov7_training_6000.weights -points 0"
      ],
      "metadata": {
        "id": "C74lo6QDFXel"
      },
      "execution_count": null,
      "outputs": []
    },
    {
      "cell_type": "code",
      "source": [
        "!./darknet detector map /content/drive/MyDrive/Datasets/obj.data /content/drive/MyDrive/Datasets/yolov7_training.cfg /content/drive/MyDrive/Datasets/yolov7_training_5000.weights -points 0"
      ],
      "metadata": {
        "id": "nfvVkUivFYpl"
      },
      "execution_count": null,
      "outputs": []
    },
    {
      "cell_type": "code",
      "source": [
        "!./darknet detector map /content/drive/MyDrive/Datasets/obj.data /content/drive/MyDrive/Datasets/yolov7_training.cfg /content/drive/MyDrive/Datasets/yolov7_training_4000.weights -points 0"
      ],
      "metadata": {
        "id": "VLELlwbFFZTQ"
      },
      "execution_count": null,
      "outputs": []
    },
    {
      "cell_type": "code",
      "source": [
        "# define helper function imShow\n",
        "import cv2\n",
        "def imShow(path):\n",
        "  import cv2\n",
        "  import matplotlib.pyplot as plt\n",
        "  %matplotlib inline\n",
        "\n",
        "  image = cv2.imread(path)\n",
        "  height, width = image.shape[:2]\n",
        "  resized_image = cv2.resize(image,(3*width, 3*height), interpolation = cv2.INTER_CUBIC)\n",
        "\n",
        "  fig = plt.gcf()\n",
        "  fig.set_size_inches(18, 10)\n",
        "  plt.axis(\"off\")\n",
        "  plt.imshow(cv2.cvtColor(resized_image, cv2.COLOR_BGR2RGB))\n",
        "  plt.show()"
      ],
      "metadata": {
        "id": "VwkAz3l8HQK7"
      },
      "execution_count": null,
      "outputs": []
    },
    {
      "cell_type": "code",
      "source": [
        "!./darknet detector test /content/drive/MyDrive/Datasets/obj.data /content/drive/MyDrive/Datasets/yolov7_training.cfg /content/drive/MyDrive/Datasets/yolov7_training_6000.weights /content/darknet/data/scream.jpg -thresh 0.3 \n",
        "imShow('predictions.jpg')"
      ],
      "metadata": {
        "id": "MvQhnNECH54Z"
      },
      "execution_count": null,
      "outputs": []
    }
  ]
}